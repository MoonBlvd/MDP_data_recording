{
 "cells": [
  {
   "cell_type": "code",
   "execution_count": 1,
   "metadata": {
    "collapsed": true
   },
   "outputs": [],
   "source": [
    "from __future__ import division\n",
    "import numpy as np\n",
    "from data_reader import *\n",
    "import matplotlib.pyplot as plt\n",
    "import seaborn as sns\n",
    "from scipy.ndimage.filters import gaussian_filter\n",
    "import copy\n",
    "\n",
    "import picos as pic\n",
    "import cvxopt as cvx\n",
    "%matplotlib inline\n",
    "\n"
   ]
  },
  {
   "cell_type": "code",
   "execution_count": 2,
   "metadata": {
    "collapsed": false
   },
   "outputs": [
    {
     "name": "stdout",
     "output_type": "stream",
     "text": [
      "(27655, 18)\n",
      "(19137, 18)\n",
      "(40646, 18)\n",
      "(79585, 18)\n",
      "(27655, 5)\n",
      "(19137, 5)\n",
      "(40646, 5)\n",
      "(79585, 5)\n"
     ]
    }
   ],
   "source": [
    "'''Read data'''\n",
    "warning_path = 'data/warnings/'\n",
    "warning_name = '05182017.csv'\n",
    "warnings_05182017 = read_data(warning_path+warning_name)\n",
    "warnings_05182017 = warnings_05182017[28:27655+28,:]\n",
    "print(warnings_05182017.shape)\n",
    "\n",
    "warning_name = '10152017.csv'\n",
    "warnings_10152017 = read_data(warning_path+warning_name)\n",
    "print(warnings_10152017.shape)\n",
    "\n",
    "warning_name = '10172017.csv'\n",
    "warnings_10172017 = read_data(warning_path+warning_name)\n",
    "print(warnings_10172017.shape)\n",
    "\n",
    "warning_name = '10172017_freeway.csv'\n",
    "warnings_10172017_freeway = read_data(warning_path+warning_name)\n",
    "print(warnings_10172017_freeway.shape)\n",
    "\n",
    "anomaly_path = 'data/anomalies/'\n",
    "anomaly_name = '05182017.csv'\n",
    "anomalies_05182017 = read_data(anomaly_path+anomaly_name)\n",
    "print(anomalies_05182017.shape)\n",
    "\n",
    "anomaly_name = '10152017.csv'\n",
    "anomalies_10152017 = read_data(anomaly_path+anomaly_name)\n",
    "print(anomalies_10152017.shape)\n",
    "\n",
    "anomaly_name = '10172017.csv'\n",
    "anomalies_10172017 = read_data(anomaly_path+anomaly_name)\n",
    "print(anomalies_10172017.shape)\n",
    "\n",
    "anomaly_name = '10172017_freeway.csv'\n",
    "anomalies_10172017_freeway = read_data(anomaly_path+anomaly_name)\n",
    "print(anomalies_10172017_freeway.shape)"
   ]
  },
  {
   "cell_type": "code",
   "execution_count": 3,
   "metadata": {
    "collapsed": false
   },
   "outputs": [
    {
     "name": "stdout",
     "output_type": "stream",
     "text": [
      "(167023, 18)\n",
      "(167023, 5)\n"
     ]
    }
   ],
   "source": [
    "'''concate data'''\n",
    "warnings = np.vstack([warnings_05182017, warnings_10152017, warnings_10172017, warnings_10172017_freeway])\n",
    "anomalies = np.vstack([anomalies_05182017, anomalies_10152017, anomalies_10172017, anomalies_10172017_freeway])\n",
    "print(warnings.shape)\n",
    "print(anomalies.shape)"
   ]
  },
  {
   "cell_type": "code",
   "execution_count": 4,
   "metadata": {
    "collapsed": true
   },
   "outputs": [],
   "source": [
    "'''Read and process the warning signals'''\n",
    "FCW = warnings[:,1].astype(int)# Forward Collision Warning\n",
    "LLDW = warnings[:,2].astype(int) # Left Lane Departure Warning\n",
    "RLDW = warnings[:,3].astype(int) # Right Lane Departure Warning\n",
    "LDW = LLDW|RLDW \n",
    "FSW = warnings[:,4].astype(int) # FailSafe Warning\n",
    "FSType = warnings[:,5].astype(int) # FailSafe Types\n",
    "\n",
    "LCrossing = warnings[:,7]\n",
    "RCrossing = warnings[:,8]\n",
    "LCutIn = warnings[:,9]\n",
    "RCutIn = warnings[:,10]"
   ]
  },
  {
   "cell_type": "code",
   "execution_count": 5,
   "metadata": {
    "collapsed": false
   },
   "outputs": [
    {
     "name": "stdout",
     "output_type": "stream",
     "text": [
      "[[0 0 0]\n",
      " [0 0 1]\n",
      " [0 1 0]\n",
      " [1 0 0]]\n",
      "[162096   4028    747    152]\n",
      "[  9.70501069e-01   2.41164391e-02   4.47243793e-03   9.10054304e-04]\n"
     ]
    }
   ],
   "source": [
    "'''Compute probabilities of Warning variables, as value of data'''\n",
    "three_warnings = np.hstack([np.reshape(FCW,(len(FCW),1)),np.reshape(LDW,(len(LDW),1)),np.reshape(FSW,(len(FSW),1))])\n",
    "states_list,state_counts = np.unique(three_warnings,axis=0,return_counts=True)\n",
    "print (states_list)\n",
    "print (state_counts)\n",
    "p_list = state_counts/three_warnings.shape[0]\n",
    "print (p_list)\n",
    "value_list = -np.log2(p_list)"
   ]
  },
  {
   "cell_type": "code",
   "execution_count": 6,
   "metadata": {
    "collapsed": true
   },
   "outputs": [],
   "source": [
    "'''Utilities'''\n",
    "def gaussian_func(x,a,mu,sigma):\n",
    "    return a*np.exp(-((x-mu)**2)/(2*sigma**2))\n",
    "def score_filter(raw_score,sigma):\n",
    "    j = 0\n",
    "    N = raw_score.shape[0]\n",
    "    filtered_score = copy.deepcopy(raw_score)\n",
    "    for i,score in enumerate(raw_score):\n",
    "        if j > 0:\n",
    "            if raw_score[j] > raw_score[j-1]:\n",
    "                mu = j\n",
    "                start_idx = np.max([mu - 3*sigma,0])\n",
    "                a = raw_score[j] - raw_score[j-1]\n",
    "                for k in range(start_idx,mu):\n",
    "                    filtered_score[k] = np.max([filtered_score[k],gaussian_func(k,a,mu,sigma)])\n",
    "            elif raw_score[j] < raw_score[j-1]:\n",
    "                mu = j\n",
    "                end_idx = np.min([mu + 3*sigma,N])\n",
    "                a = raw_score[j-1] - raw_score[j]\n",
    "                for k in range(mu,end_idx):\n",
    "                    filtered_score[k] = np.max([filtered_score[k],gaussian_func(k,a,mu,sigma)])\n",
    "        j += 1\n",
    "    return filtered_score\n",
    "\n",
    "def compute_raw_score(states_list,state,value_list):\n",
    "    tmp_i = np.where((states_list == state).all(axis=1))[0]\n",
    "    return value_list[tmp_i]"
   ]
  },
  {
   "cell_type": "code",
   "execution_count": 9,
   "metadata": {
    "collapsed": false
   },
   "outputs": [
    {
     "data": {
      "image/png": "[encoded data removed]",
      "text/plain": [
       "<matplotlib.figure.Figure at 0x11077e850>"
      ]
     },
     "metadata": {},
     "output_type": "display_data"
    },
    {
     "data": {
      "image/png": "[encoded data removed]",
      "text/plain": [
       "<matplotlib.figure.Figure at 0x111aa07d0>"
      ]
     },
     "metadata": {},
     "output_type": "display_data"
    }
   ],
   "source": [
    "'''Run moving horizon optimization'''\n",
    "\n",
    "buf_size = 500\n",
    "eta = 5\n",
    "zeta = 10\n",
    "sigma = 10\n",
    "memo_max = 2000000\n",
    "moving_buf = {}\n",
    "moving_buf['size'] = []\n",
    "moving_buf['value'] = []\n",
    "moving_buf['state'] = []\n",
    "optimal_policy = []\n",
    "k = 0\n",
    "memo_tracker = 0\n",
    "all_filtered_scores = []\n",
    "all_raw_scores = []\n",
    "test_data = three_warnings[0:27655,:]#[6500:8500,:]#[47000:47500,:]#[15200:15400,:]\n",
    "num_data = test_data.shape[0]\n",
    "\n",
    "for i,state in enumerate(test_data):\n",
    "    moving_buf['state'].append(test_data[i,:])\n",
    "    moving_buf['value'].append(compute_raw_score(states_list,test_data[i,:],value_list))\n",
    "    moving_buf['size'].append(float(2*np.random.randn(1)+10)) # assume the img size follows a normal distribution\n",
    "    if len(moving_buf['value']) == buf_size or i == num_data-1: # start to optimize if buffer is full or there is no new frame\n",
    "        buf_length = len(moving_buf['value'])\n",
    "        '''Filter the score'''\n",
    "        filtered_score = score_filter(np.array(moving_buf['value']), sigma)\n",
    "        \n",
    "        '''Init the MIQP problem'''\n",
    "        prob = pic.Problem()\n",
    "        pi  = [prob.add_variable(str(j),1, vtype='binary') for j in range(buf_length)]\n",
    "        size = pic.new_param('size',moving_buf['size'])\n",
    "        value = pic.new_param('value',filtered_score)\n",
    "        \n",
    "        '''Add objective function'''\n",
    "        obj_func = (size[0]-eta*value[0])*pi[0]\n",
    "        for j in range(1,buf_length):\n",
    "            obj_func += (size[j]-eta*value[j])*pi[j] + zeta * (pi[j]-pi[j-1])**2\n",
    "        prob.set_objective('min', obj_func)\n",
    "        \n",
    "        '''Add constraint'''\n",
    "        prob.add_constraint( pic.sum([size[j]*pi[j] for j in range(buf_length)], #summands\n",
    "                            'j',                            #name of the index\n",
    "                            '[buf_length]'                           #set to which the index belongs\n",
    "                           ) < np.max([memo_max - memo_tracker,0])\n",
    "                   )\n",
    "        '''Solve'''\n",
    "        sol = prob.solve(solver='gurobi', verbose = 0)\n",
    "        sorted_action = [float(policy.value[0]) for policy in pi]\n",
    "\n",
    "        '''Save data, update storage capacity'''\n",
    "        memo_tracker += float(np.dot(sorted_action,np.array(moving_buf['size'])))\n",
    "        \n",
    "        '''Append the sorted action to the whole action list'''\n",
    "        if k == 0:\n",
    "            optimal_policy = sorted_action\n",
    "            all_filtered_scores = filtered_score\n",
    "            all_raw_scores = np.array(moving_buf['value'])\n",
    "        else:\n",
    "            optimal_policy = np.append(optimal_policy, sorted_action)\n",
    "            all_filtered_scores = np.append(all_filtered_scores, filtered_score)\n",
    "            all_raw_scores = np.append(all_raw_scores, np.array(moving_buf['value']))\n",
    "            \n",
    "        k += 1\n",
    "        moving_buf['size'] = []\n",
    "        moving_buf['value'] = []\n",
    "        moving_buf['state'] = []\n",
    "\n",
    "plt.figure(1)\n",
    "plt.plot(test_data[:,0],'r')\n",
    "plt.plot(test_data[:,1],'g')\n",
    "plt.plot(test_data[:,2],'b')\n",
    "plt.ylim([-1,2])\n",
    "plt.legend(['FCW','LDW','FSW'])\n",
    "\n",
    "plt.figure(2)\n",
    "plt.subplot(211)\n",
    "plt.plot(all_raw_scores)\n",
    "plt.plot(all_filtered_scores)\n",
    "plt.legend(['Raw data value signal', 'Filtered signal'],bbox_to_anchor=(0., 1.02, 1., .102), loc=3,\n",
    "           ncol=2, mode=\"expand\", borderaxespad=0.)\n",
    "# plt.savefig('data_value_signal.png',dpi=500)\n",
    "\n",
    "# plt.figure(3)\n",
    "plt.subplot(212)\n",
    "plt.plot(optimal_policy,'k')\n",
    "plt.legend(['Optimal policy path'],bbox_to_anchor=(0., 1.02, 1., .102), loc=3,\n",
    "           ncol=2, mode=\"expand\", borderaxespad=0.)\n",
    "plt.tight_layout(pad=2)\n",
    "# plt.savefig('value_and_policy_MIQP.png',dpi=500)\n"
   ]
  },
  {
   "cell_type": "code",
   "execution_count": 7,
   "metadata": {
    "collapsed": false
   },
   "outputs": [
    {
     "data": {
      "text/plain": [
       "<function matplotlib.pyplot.show>"
      ]
     },
     "execution_count": 7,
     "metadata": {},
     "output_type": "execute_result"
    },
    {
     "data": {
      "image/png": "[encoded data removed]",
      "text/plain": [
       "<matplotlib.figure.Figure at 0x1044b6590>"
      ]
     },
     "metadata": {},
     "output_type": "display_data"
    }
   ],
   "source": [
    "'''sampling and reconstruction'''\n",
    "w = 100 # original frequency in Hz\n",
    "w_sample = 5 # sample rate\n",
    "time = np.arange(0,10,1/w)\n",
    "x = np.sin(time)\n",
    "sample_x = []\n",
    "sample_time = []\n",
    "for i,sample in enumerate(x):\n",
    "    if i%(w/w_sample) ==0:\n",
    "        sample_x.append(sample)\n",
    "        sample_time.append(time[i])\n",
    "        \n",
    "sample_x.append(x[-1])\n",
    "sample_time.append(time[-1])  \n",
    "\n",
    "plt.plot(time,x)\n",
    "plt.plot(sample_time,sample_x,'r*')\n",
    "plt.show\n",
    "\n"
   ]
  },
  {
   "cell_type": "code",
   "execution_count": 53,
   "metadata": {
    "collapsed": false
   },
   "outputs": [
    {
     "name": "stdout",
     "output_type": "stream",
     "text": [
      "0.665676243854\n"
     ]
    },
    {
     "data": {
      "image/png": "[encoded data removed]",
      "text/plain": [
       "<matplotlib.figure.Figure at 0x11032bf90>"
      ]
     },
     "metadata": {},
     "output_type": "display_data"
    }
   ],
   "source": [
    "# linear interpolation\n",
    "reconstructed_x = []\n",
    "reconstructed_t = []\n",
    "for i,sample in enumerate(sample_x):\n",
    "    if i+1 == len(sample_x):\n",
    "        break\n",
    "    next_sample = sample_x[i+1]\n",
    "    interpolate_x = sample + [(next_sample-sample)*(j*w_sample/w) for j in range(int(w/w_sample))]\n",
    "    interpolate_t = sample_time[i] + [(1/w)*j for j in range(int(w/w_sample))]\n",
    "    if i == 0:\n",
    "        reconstructed_x = interpolate_x\n",
    "        reconstructed_t = interpolate_t\n",
    "    else:\n",
    "        reconstructed_x = np.append(reconstructed_x,interpolate_x)\n",
    "        reconstructed_t = np.append(reconstructed_t,interpolate_t)\n",
    "plt.plot(time,x)\n",
    "plt.plot(reconstructed_t,reconstructed_x,'r*')\n",
    "plt.show\n",
    "\n",
    "# compute reconstruction error\n",
    "error = np.dot((reconstructed_x - x),(reconstructed_x - x))\n",
    "print(error)"
   ]
  },
  {
   "cell_type": "code",
   "execution_count": 46,
   "metadata": {
    "collapsed": false
   },
   "outputs": [
    {
     "data": {
      "text/plain": [
       "(1000,)"
      ]
     },
     "execution_count": 46,
     "metadata": {},
     "output_type": "execute_result"
    }
   ],
   "source": []
  },
  {
   "cell_type": "code",
   "execution_count": null,
   "metadata": {
    "collapsed": true
   },
   "outputs": [],
   "source": []
  }
 ],
 "metadata": {
  "anaconda-cloud": {},
  "kernelspec": {
   "display_name": "Python [conda root]",
   "language": "python",
   "name": "conda-root-py"
  },
  "language_info": {
   "codemirror_mode": {
    "name": "ipython",
    "version": 2
   },
   "file_extension": ".py",
   "mimetype": "text/x-python",
   "name": "python",
   "nbconvert_exporter": "python",
   "pygments_lexer": "ipython2",
   "version": "2.7.12"
  }
 },
 "nbformat": 4,
 "nbformat_minor": 1
}
