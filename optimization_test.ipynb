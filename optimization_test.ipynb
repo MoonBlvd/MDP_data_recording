{
 "cells": [
  {
   "cell_type": "code",
   "execution_count": 78,
   "metadata": {
    "collapsed": true
   },
   "outputs": [],
   "source": [
    "import numpy as np\n",
    "from scipy.optimize import minimize, curve_fit"
   ]
  },
  {
   "cell_type": "code",
   "execution_count": 2,
   "metadata": {
    "collapsed": true
   },
   "outputs": [],
   "source": [
    "def objective_func(x,A):\n",
    "    return np.sum(A*np.exp(1.0*x)) + np.sum(0.0001*np.exp(5*x)) + np.sum(x**2)"
   ]
  },
  {
   "cell_type": "code",
   "execution_count": 33,
   "metadata": {
    "collapsed": false
   },
   "outputs": [
    {
     "data": {
      "text/plain": [
       "({'fun': <function __main__.<lambda>>, 'type': 'ineq'},\n",
       " {'fun': <function __main__.<lambda>>, 'type': 'ineq'})"
      ]
     },
     "execution_count": 33,
     "metadata": {},
     "output_type": "execute_result"
    }
   ],
   "source": [
    "x0 = np.array([0.5,0.5])\n",
    "\n",
    "cons = ()\n",
    "# for i in range(2):\n",
    "cons += ({'type': 'ineq',\n",
    "          'fun': lambda x: np.array(1-x)},\n",
    "         {'type': 'ineq',\n",
    "          'fun': lambda x: np.array(x)})\n",
    "\n",
    "# cons = ({'type': 'ineq',\n",
    "#          'fun': lambda x: np.array(1-x[0])},\n",
    "#         {'type': 'ineq',\n",
    "#          'fun': lambda x: np.array(x[0]-0.5)},\n",
    "#         {'type': 'ineq',\n",
    "#          'fun': lambda x: np.array(1-x[1])},\n",
    "#         {'type': 'ineq',\n",
    "#          'fun': lambda x: np.array(x[1]-0.5)})\n",
    "cons"
   ]
  },
  {
   "cell_type": "code",
   "execution_count": 34,
   "metadata": {
    "collapsed": false
   },
   "outputs": [
    {
     "name": "stdout",
     "output_type": "stream",
     "text": [
      "Optimization terminated successfully.    (Exit mode 0)\n",
      "            Current function value: 2.0002\n",
      "            Iterations: 2\n",
      "            Function evaluations: 8\n",
      "            Gradient evaluations: 2\n"
     ]
    },
    {
     "data": {
      "text/plain": [
       "     fun: 2.0001999999999933\n",
       "     jac: array([ 1.00049999,  1.00049999])\n",
       " message: 'Optimization terminated successfully.'\n",
       "    nfev: 8\n",
       "     nit: 2\n",
       "    njev: 2\n",
       "  status: 0\n",
       " success: True\n",
       "       x: array([ -4.44089210e-15,  -2.22044605e-15])"
      ]
     },
     "execution_count": 34,
     "metadata": {},
     "output_type": "execute_result"
    }
   ],
   "source": [
    "res = minimize(objective_func, x0, args=(1.0,), constraints=cons, method='SLSQP', options={'disp': True})\n",
    "res"
   ]
  },
  {
   "cell_type": "code",
   "execution_count": 36,
   "metadata": {
    "collapsed": false
   },
   "outputs": [
    {
     "data": {
      "text/plain": [
       "array([ -4.44089210e-15,  -2.22044605e-15])"
      ]
     },
     "execution_count": 36,
     "metadata": {},
     "output_type": "execute_result"
    }
   ],
   "source": [
    "action = res.x\n",
    "action"
   ]
  },
  {
   "cell_type": "code",
   "execution_count": 37,
   "metadata": {
    "collapsed": false
   },
   "outputs": [
    {
     "data": {
      "text/plain": [
       "array([ 0.,  0.])"
      ]
     },
     "execution_count": 37,
     "metadata": {},
     "output_type": "execute_result"
    }
   ],
   "source": [
    "action[np.where(action < 0)] = 0\n",
    "action"
   ]
  },
  {
   "cell_type": "code",
   "execution_count": 39,
   "metadata": {
    "collapsed": false
   },
   "outputs": [
    {
     "data": {
      "text/plain": [
       "array([ 0.05121   ,  0.19365621,  1.00608042])"
      ]
     },
     "execution_count": 39,
     "metadata": {},
     "output_type": "execute_result"
    }
   ],
   "source": [
    "qual = np.array([0,0.7,1])\n",
    "0.05121*2.71812**(1.896*qual) + (4.352*10**(-11))*2.71828**(23.45*qual)"
   ]
  },
  {
   "cell_type": "code",
   "execution_count": 62,
   "metadata": {
    "collapsed": false
   },
   "outputs": [],
   "source": [
    "from __future__ import division\n",
    "import seaborn as sns \n",
    "import matplotlib.pyplot as plt\n",
    "from data_reader import *\n",
    "\n",
    "sns.set(color_codes=True)\n",
    "%matplotlib inline"
   ]
  },
  {
   "cell_type": "code",
   "execution_count": 71,
   "metadata": {
    "collapsed": false
   },
   "outputs": [
    {
     "data": {
      "text/plain": [
       "(10100, 2)"
      ]
     },
     "execution_count": 71,
     "metadata": {},
     "output_type": "execute_result"
    }
   ],
   "source": [
    "path = 'data/matlab/compression_ratio_quality.csv'\n",
    "comp_ratio_quality = read_data(path)\n",
    "comp_ratio_quality[:,1] = comp_ratio_quality[:,1]/100\n",
    "comp_ratio_quality.shape"
   ]
  },
  {
   "cell_type": "code",
   "execution_count": 77,
   "metadata": {
    "collapsed": false
   },
   "outputs": [
    {
     "data": {
      "image/png": "[encoded data removed]",
      "text/plain": [
       "<matplotlib.figure.Figure at 0x13fe99590>"
      ]
     },
     "metadata": {},
     "output_type": "display_data"
    }
   ],
   "source": [
    "plt.plot(comp_ratio_quality[:,1],comp_ratio_quality[:,0],'.') # quality is x axis\n",
    "x = np.linspace(0,1,1000)\n",
    "y_exp = 0.05121*np.exp(1.896*x) + (4.352*10**(-11))*np.exp(23.45*x)\n",
    "plt.plot(x,y_exp,'r',linewidth=2.0)\n",
    "# y_poly2 = 0.9096*x**2 -0.4593*x + 0.1094     \n",
    "# plt.plot(x,y_poly2,'g',linewidth=2.0)\n",
    "\n",
    "plt.legend(['Instances','Exp fitting'])#,'Poly2 fitting'])\n",
    "plt.xlabel('Quality')\n",
    "plt.ylabel('Compression ratio')\n",
    "plt.savefig('comp_qual_fit.png', dpi=200)"
   ]
  },
  {
   "cell_type": "code",
   "execution_count": 106,
   "metadata": {
    "collapsed": true
   },
   "outputs": [],
   "source": [
    "def piecewise_nonlinear(x,x0,a,b,c):\n",
    "    y = np.piecewise(x, \n",
    "                     [x < x0, x >= x0], \n",
    "#                      [lambda x:(np.exp(-b-c)*np.exp(b*x0+c)/x0)*x, lambda x:np.exp(-b-c)*np.exp(b*x+c)])\n",
    "                     [lambda x:((a*np.exp(b*x0+c)+1-a*np.exp(b+c))/x0)*x, lambda x:a*np.exp(b*x+c) + 1-a*np.exp(b+c)])\n",
    "    return y\n",
    "\n",
    "def tangent(x,w):\n",
    "    return 1/np.tan(w) * np.tan(w*x)"
   ]
  },
  {
   "cell_type": "code",
   "execution_count": 107,
   "metadata": {
    "collapsed": false
   },
   "outputs": [
    {
     "data": {
      "image/png": "[encoded data removed]",
      "text/plain": [
       "<matplotlib.figure.Figure at 0x142a5ad10>"
      ]
     },
     "metadata": {},
     "output_type": "display_data"
    }
   ],
   "source": [
    "popt_piecewise, pcov = curve_fit(piecewise_nonlinear,\n",
    "                                 comp_ratio_quality[:,1],\n",
    "                                 comp_ratio_quality[:,0], \n",
    "                                 p0=[0.5, 0.5, 0.5, 0.5],\n",
    "                                 maxfev=10000)\n",
    "popt_tan, pcov_tan = curve_fit(tangent,\n",
    "                               comp_ratio_quality[:,1],\n",
    "                               comp_ratio_quality[:,0], \n",
    "                               p0=[0.5],\n",
    "                               maxfev=10000)\n",
    "x = np.linspace(0,1,1000)\n",
    "plt.plot(comp_ratio_quality[:,1],comp_ratio_quality[:,0],'.') # quality is x axis\n",
    "plt.plot(x, piecewise_nonlinear(x,*popt_piecewise),'r')\n",
    "plt.plot(x, tangent(x,popt_tan),'g')\n",
    "plt.xlim([0,1])\n",
    "plt.legend(['Instances','Piecewise','Tangent'])\n",
    "plt.savefig('quality_ratio_curve.png',dpi=200)"
   ]
  },
  {
   "cell_type": "code",
   "execution_count": 108,
   "metadata": {
    "collapsed": false
   },
   "outputs": [
    {
     "data": {
      "text/plain": [
       "array([  7.85704331e-01,   4.25687581e-05,   1.82792608e+01,\n",
       "        -8.45062557e+00])"
      ]
     },
     "execution_count": 108,
     "metadata": {},
     "output_type": "execute_result"
    }
   ],
   "source": [
    "popt_piecewise"
   ]
  },
  {
   "cell_type": "code",
   "execution_count": null,
   "metadata": {
    "collapsed": true
   },
   "outputs": [],
   "source": [
    "Number of total recorded frames: 12911\n",
    "NUmber of total recorded events:47\n",
    "Total memory cost: [ 1668.9556793] MB   /   [ 1.62983953] GB\n",
    "Event length list:  [484, 17, 1401, 554, 65, 606, 69, 69, 114, 69, 70, 2, 70, 327, 552, 72, 501, 501, 2, 499, 69, 65, 250, 4, 247, 74, 501, 76, 77, 2, 63, 3, 2, 73, 64, 501, 88, 951, 951, 712, 48, 45, 8, 74, 514, 501, 951]\n",
    "The anomaly/memory ratio is: [ 0.13421567] frame/MB\n",
    "The event/memory ratio is: [ 0.02816132] event/MB\n",
    "The min event length is: 2\n",
    "The max event length is: 1401\n",
    "The mean event length is: 275.70212766\n",
    "[[ 0.13421567]]\n",
    "[[ 0.02816132]]\n",
    "[[ 2.]]\n",
    "[[ 1401.]]\n",
    "[[ 275.70212766]]\n",
    "[[ 47.]]\n",
    "[[ 12911.]]\n",
    "\n",
    "\n",
    "\n",
    "Number of total recorded frames: 15539\n",
    "NUmber of total recorded events:25\n",
    "Total memory cost: [ 1443.16245683] MB   /   [ 1.40933834] GB\n",
    "Event length list:  [2353, 501, 62, 501, 501, 113, 518, 64, 501, 2751, 501, 66, 71, 501, 74, 75, 61, 532, 501, 84, 501, 3201, 79, 501, 951]\n",
    "The anomaly/memory ratio is: [ 0.15521468] frame/MB\n",
    "The event/memory ratio is: [ 0.01732307] event/MB\n",
    "The min event length is: 61\n",
    "The max event length is: 3201\n",
    "The mean event length is: 622.56\n",
    "[[ 0.15521468]]\n",
    "[[ 0.01732307]]\n",
    "[[ 61.]]\n",
    "[[ 3201.]]\n",
    "[[ 622.56]]\n",
    "[[ 25.]]\n",
    "[[ 15539.]]"
   ]
  }
 ],
 "metadata": {
  "anaconda-cloud": {},
  "kernelspec": {
   "display_name": "Python [conda root]",
   "language": "python",
   "name": "conda-root-py"
  },
  "language_info": {
   "codemirror_mode": {
    "name": "ipython",
    "version": 2
   },
   "file_extension": ".py",
   "mimetype": "text/x-python",
   "name": "python",
   "nbconvert_exporter": "python",
   "pygments_lexer": "ipython2",
   "version": "2.7.12"
  }
 },
 "nbformat": 4,
 "nbformat_minor": 1
}
